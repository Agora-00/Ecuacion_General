{
  "nbformat": 4,
  "nbformat_minor": 0,
  "metadata": {
    "colab": {
      "name": "Ecuación_General.ipynb",
      "provenance": [],
      "collapsed_sections": []
    },
    "kernelspec": {
      "name": "python3",
      "display_name": "Python 3"
    },
    "language_info": {
      "name": "python"
    }
  },
  "cells": [
    {
      "cell_type": "code",
      "metadata": {
        "colab": {
          "base_uri": "https://localhost:8080/"
        },
        "id": "encJ7JXIiHzR",
        "outputId": "776185cd-67f5-4188-be5b-395884f9665e"
      },
      "source": [
        "import math\n",
        "\n",
        "def Ecu_Gene (a, b, c):\n",
        "    global oper\n",
        "    oper = ((b**2)-4*a*c)\n",
        "    return oper\n",
        "    \n",
        "def Ejecu (a, b,num):\n",
        "    raiz_1 = (-b + (math.sqrt(oper)))/(2*a)\n",
        "    return raiz_1\n",
        "\n",
        "def Ejecu (a,b,numer):\n",
        "    raiz_2 = (-b - (math.sqrt(oper)))/(2*a)\n",
        "    return raiz_2\n",
        "\n",
        "\n",
        "a = int (input(\"introdice el valor de a :\"))\n",
        "b = int (input(\"introdice el valor de b :\"))\n",
        "c = int (input(\"introdice el valor de c :\"))\n",
        "\n",
        "num = Ecu_Gene(a,b,c)\n",
        "numer = Ecu_Gene(a,b,c)\n",
        "\n",
        "if oper < 0 :\n",
        "    print(\"No tiene soluciones reales (son soluciones imaginaias)\") \n",
        "\n",
        "else:\n",
        "    print(\"La raiz uno es: \",(-b + (math.sqrt(num))) /(2*a))\n",
        "    print(\"La raiz dos es: \",(-b - (math.sqrt(numer)))/(2*a))\n",
        "\n",
        "\n",
        "\n",
        "\n",
        "\n",
        "\n",
        "\n",
        "\n"
      ],
      "execution_count": 138,
      "outputs": [
        {
          "output_type": "stream",
          "name": "stdout",
          "text": [
            "introdice el valor de a :4\n",
            "introdice el valor de b :-8\n",
            "introdice el valor de c :-14\n",
            "La raiz uno es:  3.1213203435596424\n",
            "La raiz dos es:  -1.1213203435596424\n"
          ]
        }
      ]
    }
  ]
}